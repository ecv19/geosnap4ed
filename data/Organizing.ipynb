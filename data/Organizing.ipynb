{
 "cells": [
  {
   "cell_type": "markdown",
   "metadata": {},
   "source": [
    "# Organizing data by variables of interest\n",
    "\n",
    "Brainstorming how to organize all this data. One way to conceptualize is that there are categories of attributes that we are interested in: Student, teacher, and neighborhood; and several geographic scales at which we can observe them."
   ]
  },
  {
   "cell_type": "markdown",
   "metadata": {},
   "source": [
    "# Attributes of interest:"
   ]
  },
  {
   "cell_type": "markdown",
   "metadata": {},
   "source": [
    "### Student attributes\n",
    "- grades (outcomes)\n",
    "- racial and gender summary statistics\n",
    "- achievement data\n",
    "    - grades\n",
    "    - AP testing, SAT/ACT prep, other college prep metrics\n",
    "    - discipline\n",
    "    - harassment/bullying\n",
    "    - absenteeism"
   ]
  },
  {
   "cell_type": "markdown",
   "metadata": {},
   "source": [
    "### Teacher attributes\n",
    "- amount of pay\n",
    "- teachers per student\n",
    "- support staff make up"
   ]
  },
  {
   "cell_type": "markdown",
   "metadata": {},
   "source": [
    "### Neighborhood attributes\n",
    "- locales (NCES)\n",
    "- congressional district\n",
    "- state congresional districts (lower and upper houses)\n",
    "- census/acs economic indicators\n",
    "- Reardon variables"
   ]
  },
  {
   "cell_type": "markdown",
   "metadata": {},
   "source": [
    "# Observable geographic scales\n",
    "by decreasing resolution"
   ]
  },
  {
   "cell_type": "markdown",
   "metadata": {},
   "source": [
    "### School\n",
    "- locations (we have adresses that can be geocoded to point data)"
   ]
  },
  {
   "cell_type": "markdown",
   "metadata": {},
   "source": [
    "### School District\n",
    "- geometries (shapefiles)"
   ]
  },
  {
   "cell_type": "markdown",
   "metadata": {},
   "source": [
    "### Counties\n",
    "- to view school districts in the aggregate\n",
    "\n",
    "### Geographic locale classifications (NCES)\n",
    "- distinguish between rural and urban (and everythig in between)\n",
    "\n",
    "### Legislative boundaries\n",
    "- could provide qualitative insight in terms of funding or other policy decisions\n",
    "- by US congressional districts or state upper and lower houses"
   ]
  },
  {
   "cell_type": "markdown",
   "metadata": {},
   "source": [
    "# Create workflow: investigate California"
   ]
  },
  {
   "cell_type": "code",
   "execution_count": null,
   "metadata": {},
   "outputs": [],
   "source": []
  }
 ],
 "metadata": {
  "kernelspec": {
   "display_name": "Python 3",
   "language": "python",
   "name": "python3"
  },
  "language_info": {
   "codemirror_mode": {
    "name": "ipython",
    "version": 3
   },
   "file_extension": ".py",
   "mimetype": "text/x-python",
   "name": "python",
   "nbconvert_exporter": "python",
   "pygments_lexer": "ipython3",
   "version": "3.7.6"
  }
 },
 "nbformat": 4,
 "nbformat_minor": 4
}
